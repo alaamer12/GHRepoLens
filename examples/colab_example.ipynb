{
 "cells": [
  {
   "cell_type": "markdown",
   "id": "d540e62d",
   "metadata": {},
   "source": [
    "# 🔍 GHRepoLens: GitHub Repository Analysis Tool\n",
    "\n",
    "[![Open In Colab](https://colab.research.google.com/assets/colab-badge.svg)](https://colab.research.google.com/github/alaamer12/GHRepoLens/blob/main/examples/colab_example.ipynb)\n",
    "\n",
    "## 📝 Overview\n",
    "GHRepoLens is a powerful tool for analyzing GitHub repositories. It provides detailed insights about:\n",
    "- Code quality metrics\n",
    "- Activity and engagement\n",
    "- Repository statistics\n",
    "- Visual analytics\n",
    "\n",
    "This notebook provides an interactive interface to use GHRepoLens with different configurations and analysis modes."
   ]
  },
  {
   "cell_type": "markdown",
   "id": "a684d5ef",
   "metadata": {},
   "source": [
    "## 🚀 Setup\n",
    "\n",
    "First, we'll clone the repository and install dependencies:"
   ]
  },
  {
   "cell_type": "code",
   "execution_count": null,
   "id": "00b99abe",
   "metadata": {},
   "outputs": [],
   "source": [
    "#@title Clone Repository and Install Dependencies\n",
    "!git clone https://github.com/alaamer12/GHRepoLens.git\n",
    "%cd GHRepoLens\n",
    "!pip install -r requirements.txt"
   ]
  },
  {
   "cell_type": "markdown",
   "id": "b92f0d72",
   "metadata": {},
   "source": [
    "## 🔑 Authentication Setup\n",
    "\n",
    "GHRepoLens supports multiple authentication methods. Choose your preferred method below:"
   ]
  },
  {
   "cell_type": "code",
   "execution_count": null,
   "id": "1c2a45b3",
   "metadata": {},
   "outputs": [],
   "source": [
    "#@title Authentication Method\n",
    "AUTH_METHOD = \"Direct Input\" #@param [\"Direct Input\", \"Environment Variables\", \".env File\", \"Config File\"]\n",
    "\n",
    "if AUTH_METHOD == \"Direct Input\":\n",
    "    GITHUB_TOKEN = \"\" #@param {type:\"string\"}\n",
    "    GITHUB_USERNAME = \"\" #@param {type:\"string\"}\n",
    "    \n",
    "    import os\n",
    "    os.environ[\"GITHUB_TOKEN\"] = GITHUB_TOKEN\n",
    "    os.environ[\"GITHUB_USERNAME\"] = GITHUB_USERNAME\n",
    "    \n",
    "elif AUTH_METHOD == \".env File\":\n",
    "    %%writefile .env\n",
    "    GITHUB_TOKEN=your_token_here\n",
    "    GITHUB_USERNAME=your_username_here\n",
    "    \n",
    "    import dotenv\n",
    "    dotenv.load_dotenv()\n",
    "    \n",
    "elif AUTH_METHOD == \"Config File\":\n",
    "    %%writefile config.ini\n",
    "    [github]\n",
    "    token = your_token_here\n",
    "    username = your_username_here\n",
    "    \n",
    "# Validate credentials\n",
    "from github import Github\n",
    "try:\n",
    "    g = Github(os.environ.get(\"GITHUB_TOKEN\"))\n",
    "    user = g.get_user()\n",
    "    print(f\"✅ Successfully authenticated as {user.login}\")\n",
    "except Exception as e:\n",
    "    print(f\"❌ Authentication failed: {str(e)}\")"
   ]
  },
  {
   "cell_type": "markdown",
   "id": "ae5a97ed",
   "metadata": {},
   "source": [
    "## 📊 Analysis Configuration\n",
    "\n",
    "Configure your analysis parameters below:"
   ]
  },
  {
   "cell_type": "code",
   "execution_count": null,
   "id": "7afd42ad",
   "metadata": {},
   "outputs": [],
   "source": [
    "#@title Basic Configuration\n",
    "ANALYSIS_MODE = \"full\" #@param [\"full\", \"demo\", \"test\", \"quicktest\"] {type:\"string\"}\n",
    "REPOSITORY_VISIBILITY = \"all\" #@param [\"all\", \"public\", \"private\"] {type:\"string\"}\n",
    "INCLUDE_ORGANIZATIONS = False #@param {type:\"boolean\"}\n",
    "ORGANIZATION_NAMES = \"\" #@param {type:\"string\"}\n",
    "ZIP_FILENAME = \"ghrepolens_reports.zip\" #@param {type:\"string\"}\n",
    "REPORTS_DIR = \"reports\" #@param {type:\"string\"}\n",
    "\n",
    "print(f\"📝 Selected Mode: {ANALYSIS_MODE}\")\n",
    "print(f\"🔒 Repository Visibility: {REPOSITORY_VISIBILITY}\")\n",
    "\n",
    "if INCLUDE_ORGANIZATIONS:\n",
    "    org_list = [org.strip() for org in ORGANIZATION_NAMES.split(\",\") if org.strip()]\n",
    "    if org_list:\n",
    "        print(f\"🏢 Including organizations: {', '.join(org_list)}\")\n",
    "    else:\n",
    "        print(\"⚠️ No valid organization names provided\")"
   ]
  },
  {
   "cell_type": "code",
   "execution_count": null,
   "id": "cd7b6df7",
   "metadata": {},
   "outputs": [],
   "source": [
    "#@title Advanced Configuration\n",
    "USE_CUSTOM_CONFIG = False #@param {type:\"boolean\"}\n",
    "MAX_WORKERS = 4 #@param {type:\"slider\", min:1, max:8, step:1}\n",
    "INACTIVE_THRESHOLD_DAYS = 180 #@param {type:\"integer\"}\n",
    "ENABLE_CHECKPOINTING = True #@param {type:\"boolean\"}\n",
    "\n",
    "if USE_CUSTOM_CONFIG:\n",
    "    config = f\"\"\"\n",
    "    [analysis]\n",
    "    reports_dir = reports\n",
    "    clone_dir = temp_repos\n",
    "    max_workers = {MAX_WORKERS}\n",
    "    inactive_threshold_days = {INACTIVE_THRESHOLD_DAYS}\n",
    "    large_repo_loc_threshold = 1000\n",
    "\n",
    "    [filters]\n",
    "    skip_forks = false\n",
    "    skip_archived = false\n",
    "    include_private = true\n",
    "    analyze_clones = false\n",
    "\n",
    "    [checkpointing]\n",
    "    enable_checkpointing = {str(ENABLE_CHECKPOINTING).lower()}\n",
    "    checkpoint_file = github_analyzer_checkpoint.pkl\n",
    "    checkpoint_threshold = 100\n",
    "    \"\"\"\n",
    "    \n",
    "    with open(\"config.ini\", \"w\") as f:\n",
    "        f.write(config)\n",
    "    print(\"✅ Custom configuration saved to config.ini\")"
   ]
  },
  {
   "cell_type": "markdown",
   "id": "b8ff8fbe",
   "metadata": {},
   "source": [
    "## 🚀 Run Analysis\n",
    "\n",
    "Now let's run the repository analysis with your configuration:"
   ]
  },
  {
   "cell_type": "code",
   "execution_count": null,
   "id": "2e4b827f",
   "metadata": {},
   "outputs": [],
   "source": [
    "import asyncio\n",
    "from main import run_analysis\n",
    "\n",
    "async def main():\n",
    "    try:\n",
    "        await run_analysis(\n",
    "            token=os.environ[\"GITHUB_TOKEN\"],\n",
    "            username=os.environ[\"GITHUB_USERNAME\"],\n",
    "            mode=ANALYSIS_MODE,\n",
    "            config_file=\"config.ini\" if USE_CUSTOM_CONFIG else None,\n",
    "            include_orgs=org_list if INCLUDE_ORGANIZATIONS else None,\n",
    "            visibility=REPOSITORY_VISIBILITY\n",
    "        )\n",
    "    except Exception as e:\n",
    "        print(f\"❌ Analysis failed: {str(e)}\")\n",
    "        raise\n",
    "\n",
    "await main()"
   ]
  },
  {
   "cell_type": "markdown",
   "id": "a8714397",
   "metadata": {},
   "source": [
    "## 📈 Results & Visualization\n",
    "\n",
    "Display the analysis results and generated reports:"
   ]
  },
  {
   "cell_type": "code",
   "execution_count": null,
   "id": "90373496",
   "metadata": {},
   "outputs": [],
   "source": [
    "import glob\n",
    "import os\n",
    "\n",
    "# Display generated reports\n",
    "print(\"Generated Reports:\")\n",
    "for file in glob.glob(\"reports/*\"):\n",
    "    print(f\"📄 {os.path.basename(file)}\")"
   ]
  },
  {
   "cell_type": "markdown",
   "id": "6e0fb0d1",
   "metadata": {},
   "source": [
    "## 📥 Download Reports\n",
    "\n",
    "Download all generated reports in a zip file:"
   ]
  },
  {
   "cell_type": "code",
   "execution_count": null,
   "id": "da8388be",
   "metadata": {},
   "outputs": [],
   "source": [
    "import zipfile\n",
    "import os\n",
    "from google.colab import files\n",
    "\n",
    "\n",
    "\n",
    "if os.path.exists(REPORTS_DIR) and os.listdir(REPORTS_DIR):\n",
    "    with zipfile.ZipFile(ZIP_FILENAME, 'w') as zip_file:\n",
    "        for root, dirs, filenames in os.walk(REPORTS_DIR):\n",
    "            for filename in filenames:\n",
    "                file_path = os.path.join(root, filename)\n",
    "                arcname = os.path.relpath(file_path, REPORTS_DIR)\n",
    "                zip_file.write(file_path, arcname=arcname)\n",
    "                print(f\"📎 Added {filename} to {ZIP_FILENAME}\")\n",
    "    \n",
    "    # Download the zip file\n",
    "    print(f\"\\n⬇️ Downloading {ZIP_FILENAME}...\")\n",
    "    files.download(ZIP_FILENAME)\n",
    "else:\n",
    "    print(\"❌ No reports found in reports directory\")"
   ]
  },
  {
   "cell_type": "markdown",
   "id": "d55ad01f",
   "metadata": {},
   "source": [
    "---\n",
    "## 📝 Credits\n",
    "\n",
    "**GHRepoLens** is developed by [Alaamer](https://github.com/alaamer12).\n",
    "\n",
    "- Version: 0.5.0\n",
    "- License: MIT\n",
    "- Homepage: [github.com/alaamer12/GHRepoLens](https://github.com/alaamer12/GHRepoLens)\n",
    "- Bug Reports: [github.com/alaamer12/GHRepoLens/issues](https://github.com/alaamer12/GHRepoLens/issues)\n",
    "\n",
    "For more information about using GHRepoLens, check out our [documentation](https://github.com/alaamer12/GHRepoLens#readme).\n",
    "\n",
    "*Built with ❤️ for the GitHub community*"
   ]
  }
 ],
 "metadata": {
  "language_info": {
   "name": "python"
  }
 },
 "nbformat": 4,
 "nbformat_minor": 5
}
